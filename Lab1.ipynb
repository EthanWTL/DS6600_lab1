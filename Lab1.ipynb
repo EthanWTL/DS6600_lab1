{
 "cells": [
  {
   "cell_type": "markdown",
   "id": "b6613997",
   "metadata": {},
   "source": [
    "1"
   ]
  },
  {
   "cell_type": "markdown",
   "id": "d87a0d9a-5176-4f18-b7a6-da9de8a49ded",
   "metadata": {},
   "source": [
    "The link to the github: https://github.com/EthanWTL/DS6600_lab1"
   ]
  },
  {
   "cell_type": "markdown",
   "id": "81c7cbb6",
   "metadata": {},
   "source": [
    "2a"
   ]
  },
  {
   "cell_type": "raw",
   "id": "3680b3c1",
   "metadata": {
    "vscode": {
     "languageId": "raw"
    }
   },
   "source": [
    "[[source]]\n",
    "url = \"https://pypi.org/simple\"\n",
    "verify_ssl = true\n",
    "name = \"pypi\"\n",
    "\n",
    "[packages]\n",
    "numpy = \"==1.25.2\"\n",
    "pandas = \"==2.0.3\"\n",
    "matplotlib = \"==3.7.2\"\n",
    "requests = \"==2.31.0\"\n",
    "ipykernel = \"*\"\n",
    "jupyterlab = \"==4.2.5\"\n",
    "\n",
    "[dev-packages]\n",
    "\n",
    "[requires]\n",
    "python_version = \"3.11\"\n",
    "python_full_version = \"3.11.4\""
   ]
  },
  {
   "cell_type": "markdown",
   "id": "28d89af4",
   "metadata": {},
   "source": [
    "2b"
   ]
  },
  {
   "cell_type": "code",
   "execution_count": 1,
   "id": "864314c4",
   "metadata": {},
   "outputs": [
    {
     "name": "stdout",
     "output_type": "stream",
     "text": [
      "Python 3.11.4\n"
     ]
    }
   ],
   "source": [
    "!python --version"
   ]
  },
  {
   "cell_type": "markdown",
   "id": "3b65b3d0",
   "metadata": {},
   "source": [
    "2c"
   ]
  },
  {
   "cell_type": "code",
   "execution_count": 2,
   "id": "a3f2ff57",
   "metadata": {},
   "outputs": [],
   "source": [
    "import numpy as np\n",
    "import pandas as pd\n",
    "import matplotlib.pyplot as plt\n",
    "import requests"
   ]
  },
  {
   "cell_type": "markdown",
   "id": "6ea589a0",
   "metadata": {},
   "source": [
    "2d"
   ]
  },
  {
   "cell_type": "code",
   "execution_count": 3,
   "id": "fc194feb",
   "metadata": {},
   "outputs": [
    {
     "ename": "ModuleNotFoundError",
     "evalue": "No module named 'sklearn'",
     "output_type": "error",
     "traceback": [
      "\u001b[0;31m---------------------------------------------------------------------------\u001b[0m",
      "\u001b[0;31mModuleNotFoundError\u001b[0m                       Traceback (most recent call last)",
      "Cell \u001b[0;32mIn[3], line 1\u001b[0m\n\u001b[0;32m----> 1\u001b[0m \u001b[38;5;28;01mimport\u001b[39;00m \u001b[38;5;21;01msklearn\u001b[39;00m\n",
      "\u001b[0;31mModuleNotFoundError\u001b[0m: No module named 'sklearn'"
     ]
    }
   ],
   "source": [
    "import sklearn"
   ]
  },
  {
   "cell_type": "markdown",
   "id": "466d674a",
   "metadata": {},
   "source": [
    "3a"
   ]
  },
  {
   "cell_type": "markdown",
   "id": "89f7aa30",
   "metadata": {},
   "source": [
    "Container\n",
    "container provide app level seperation, the main reason is databse at different location can benefit from docker. They can just download the docker and connect to their database and run."
   ]
  },
  {
   "cell_type": "markdown",
   "id": "f5b94f47",
   "metadata": {},
   "source": [
    "3b"
   ]
  },
  {
   "cell_type": "markdown",
   "id": "2faa293f",
   "metadata": {},
   "source": [
    "Single computer.\n",
    "This sounds like just need a computer and get the job done, and it's excel, so need to worry about environments and dependency so no need virtual machine or environments."
   ]
  },
  {
   "cell_type": "markdown",
   "id": "f8cef2c8",
   "metadata": {},
   "source": [
    "3c"
   ]
  },
  {
   "cell_type": "markdown",
   "id": "9f58379d",
   "metadata": {},
   "source": [
    "Virtual Machine. \n",
    "Because we need Ubuntu, a new machine would be overkill, and virtual enviroment and container won't change the operating system."
   ]
  },
  {
   "cell_type": "markdown",
   "id": "d6f53c90",
   "metadata": {},
   "source": [
    "3d"
   ]
  },
  {
   "cell_type": "markdown",
   "id": "d2dc473e",
   "metadata": {},
   "source": [
    "virtual environment. I can just create a virtual environment in anaconda with python3 and never change it anymore. A new machine or virtual machine will be overkill, container works too but hard to change packages in the future."
   ]
  },
  {
   "cell_type": "markdown",
   "id": "ec0df7a7",
   "metadata": {},
   "source": [
    "4a"
   ]
  },
  {
   "cell_type": "raw",
   "id": "494e3c9e",
   "metadata": {
    "vscode": {
     "languageId": "raw"
    }
   },
   "source": [
    "# syntax=docker/dockerfile:1\n",
    "\n",
    "# Use lastest Ubuntu image\n",
    "FROM ubuntu:latest\n",
    "\n",
    "# Set the working directory to /app\n",
    "WORKDIR /DS6600_Lab1\n",
    "\n",
    "# Install Python 3.12.5\n",
    "RUN apt-get update && apt-get install -y python3\n",
    "\n",
    "\n",
    "# Run Jupyter Lab when the container starts\n",
    "CMD [\"python3\"]"
   ]
  },
  {
   "cell_type": "markdown",
   "id": "2e511355",
   "metadata": {},
   "source": [
    "4b"
   ]
  },
  {
   "cell_type": "raw",
   "id": "b288d2bb",
   "metadata": {
    "vscode": {
     "languageId": "raw"
    }
   },
   "source": [
    "[+] Building 12.4s (11/11) FINISHED                                                                                                                   docker:desktop-linux\n",
    " => [internal] load build definition from Dockerfile                                                                                                                  0.0s\n",
    " => => transferring dockerfile: 345B                                                                                                                                  0.0s\n",
    " => resolve image config for docker-image://docker.io/docker/dockerfile:1                                                                                             0.5s\n",
    " => [auth] docker/dockerfile:pull token for registry-1.docker.io                                                                                                      0.0s\n",
    " => CACHED docker-image://docker.io/docker/dockerfile:1@sha256:865e5dd094beca432e8c0a1d5e1c465db5f998dca4e439981029b3b81fb39ed5                                       0.0s\n",
    " => [internal] load metadata for docker.io/library/ubuntu:latest                                                                                                      0.4s\n",
    " => [auth] library/ubuntu:pull token for registry-1.docker.io                                                                                                         0.0s\n",
    " => [internal] load .dockerignore                                                                                                                                     0.0s\n",
    " => => transferring context: 2B                                                                                                                                       0.0s\n",
    " => [1/3] FROM docker.io/library/ubuntu:latest@sha256:dfc10878be8d8fc9c61cbff33166cb1d1fe44391539243703c72766894fa834a                                                2.2s\n",
    " => => resolve docker.io/library/ubuntu:latest@sha256:dfc10878be8d8fc9c61cbff33166cb1d1fe44391539243703c72766894fa834a                                                0.0s\n",
    " => => sha256:dfc10878be8d8fc9c61cbff33166cb1d1fe44391539243703c72766894fa834a 1.34kB / 1.34kB                                                                        0.0s\n",
    " => => sha256:d3a9954d48359352af02b5824c4b3c883b4361d355022bec7239c2ef8a3e7d04 424B / 424B                                                                            0.0s\n",
    " => => sha256:2b1b17d5e5a2e35c8ff079eb8d54edb89a20ae1794e4c1f359f756d6b422d2c7 2.31kB / 2.31kB                                                                        0.0s\n",
    " => => sha256:6e59cb05818e49ea83cbe79bd46eb80418dfe3cb3735b45570f93a23579e2cec 28.89MB / 28.89MB                                                                      1.4s\n",
    " => => extracting sha256:6e59cb05818e49ea83cbe79bd46eb80418dfe3cb3735b45570f93a23579e2cec                                                                             0.7s\n",
    " => [2/3] WORKDIR /DS6600_Lab1                                                                                                                                        0.1s\n",
    " => [3/3] RUN apt-get update && apt-get install -y python3                                                                                                            8.9s\n",
    " => exporting to image                                                                                                                                                0.2s\n",
    " => => exporting layers                                                                                                                                               0.2s\n",
    " => => writing image sha256:40b9083acf1df3cb5b9ad96c293af8158f8b943492739017e2eb9f6f3dc08a0f                                                                          0.0s\n",
    " => => naming to docker.io/library/lab1debian                                                                                                                         0.0s\n",
    "\n",
    "View build details: docker-desktop://dashboard/build/desktop-linux/desktop-linux/e48qz4opng7i7wc1a2ojhhiwa\n",
    "\n",
    "What's next:\n",
    "    View a summary of image vulnerabilities and recommendations → docker scout quickview "
   ]
  },
  {
   "cell_type": "markdown",
   "id": "a0041887",
   "metadata": {
    "vscode": {
     "languageId": "raw"
    }
   },
   "source": [
    "4c"
   ]
  },
  {
   "cell_type": "raw",
   "id": "4ca53a5b",
   "metadata": {
    "vscode": {
     "languageId": "raw"
    }
   },
   "source": [
    "DS6600_lab1(base) home@Ethans-MacBook-Air DS6600_lab1 % docker run -it lab1debian\n",
    "Python 3.12.3 (main, Sep 11 2024, 14:17:37) [GCC 13.2.0] on linux\n",
    "Type \"help\", \"copyright\", \"credits\" or \"license\" for more information.\n",
    ">>> "
   ]
  },
  {
   "cell_type": "raw",
   "id": "0742a796",
   "metadata": {},
   "source": []
  }
 ],
 "metadata": {
  "kernelspec": {
   "display_name": "ds6600lab1",
   "language": "python",
   "name": "python3"
  },
  "language_info": {
   "codemirror_mode": {
    "name": "ipython",
    "version": 3
   },
   "file_extension": ".py",
   "mimetype": "text/x-python",
   "name": "python",
   "nbconvert_exporter": "python",
   "pygments_lexer": "ipython3",
   "version": "3.11.4"
  }
 },
 "nbformat": 4,
 "nbformat_minor": 5
}
